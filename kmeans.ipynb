{
 "cells": [
  {
   "cell_type": "code",
   "execution_count": null,
   "metadata": {},
   "outputs": [],
   "source": [
    "from sklearn.datasets import make_blobs\n",
    "import matplotlib.pyplot as plt\n",
    "import numpy as np"
   ]
  },
  {
   "cell_type": "code",
   "execution_count": null,
   "metadata": {},
   "outputs": [],
   "source": [
    "X, Y = make_blobs()"
   ]
  },
  {
   "cell_type": "code",
   "execution_count": null,
   "metadata": {},
   "outputs": [],
   "source": [
    "plt.scatter(X[:,0], X[:,1], c=Y)"
   ]
  },
  {
   "cell_type": "code",
   "execution_count": null,
   "metadata": {},
   "outputs": [],
   "source": [
    "n_classes=3\n",
    "centroids = np.random.uniform(X.min(axis=0), X.max(axis=0), size=(3,2))\n",
    "iterations = 10\n",
    "\n",
    "for i in range(iterations):\n",
    "    if i in [0,1,iterations//2,iterations]:\n",
    "        plt.title(f'Iteration {i}')\n",
    "        plt.scatter(X[:,0], X[:,1], c=Y)\n",
    "        for c in centroids:\n",
    "            plt.plot(c[0], c[1], label='Centroid', marker='*', c='red', markersize=15)\n",
    "        plt.show()\n",
    "    \n",
    "    distances = np.zeros((X.shape[0], centroids.shape[0]))\n",
    "    for i, centroid in enumerate(centroids):\n",
    "        distances[:, i] = np.sqrt(np.sum((X - centroid)**2, axis=1))\n",
    "    \n",
    "    classes = np.argmin(distances,axis=1)\n",
    "    centroids = np.stack([X[classes==c].mean(axis=0) for c in range(n_classes)])"
   ]
  }
 ],
 "metadata": {
  "kernelspec": {
   "display_name": "swarm",
   "language": "python",
   "name": "python3"
  },
  "language_info": {
   "codemirror_mode": {
    "name": "ipython",
    "version": 3
   },
   "file_extension": ".py",
   "mimetype": "text/x-python",
   "name": "python",
   "nbconvert_exporter": "python",
   "pygments_lexer": "ipython3",
   "version": "3.10.12"
  }
 },
 "nbformat": 4,
 "nbformat_minor": 2
}
