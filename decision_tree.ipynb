{
 "cells": [
  {
   "cell_type": "code",
   "execution_count": null,
   "metadata": {},
   "outputs": [],
   "source": [
    "from sklearn.datasets import make_regression\n",
    "import matplotlib.pyplot as plt\n",
    "import numpy as np\n",
    "# could do make_classification but would need to include a way to get entropy"
   ]
  },
  {
   "cell_type": "code",
   "execution_count": null,
   "metadata": {},
   "outputs": [],
   "source": [
    "X, Y = make_regression(n_features=2, noise=0.25)\n",
    "Y = (Y - Y.min()) / (Y.max() - Y.min())"
   ]
  },
  {
   "cell_type": "code",
   "execution_count": null,
   "metadata": {},
   "outputs": [],
   "source": [
    "plt.figure(figsize=(8, 6))\n",
    "plt.scatter(X[:, 0], X[:, 1], c=Y, cmap='viridis')\n",
    "plt.colorbar(label='Target Variable (Y)')\n",
    "plt.title('Scatter plot colored by target variable (Y)')\n",
    "plt.xlabel('Feature 1')\n",
    "plt.ylabel('Feature 2')\n",
    "plt.show()"
   ]
  },
  {
   "cell_type": "code",
   "execution_count": null,
   "metadata": {},
   "outputs": [],
   "source": [
    "X.shape, Y.shape"
   ]
  },
  {
   "cell_type": "code",
   "execution_count": null,
   "metadata": {},
   "outputs": [],
   "source": [
    "def compute_mse(ypred, ys):\n",
    "    return np.mean((ypred - ys)**2)\n",
    "\n",
    "def get_split(X, Y):\n",
    "    best_split = None\n",
    "    best_mse = np.inf\n",
    "    for feature in range(X.shape[-1]):\n",
    "        # for each possible feature\n",
    "        all_values = np.sort(X[:, feature])\n",
    "        possible_values = all_values[1:-1]\n",
    "        for value in possible_values:\n",
    "            # propose a split on it\n",
    "            group1outs = Y[X[:, feature] > value]\n",
    "            group2outs = Y[X[:, feature] <= value]\n",
    "            group1pred = np.mean(group1outs)\n",
    "            group2pred = np.mean(group2outs)\n",
    "            total_mse = compute_mse(group1pred, group1outs) + compute_mse(group2pred, group2outs)\n",
    "            if total_mse < best_mse:\n",
    "                best_split = (feature, value)\n",
    "                best_mse = total_mse\n",
    "    return best_split\n",
    "    \n",
    "def build_tree(X, Y, max_depth=10, current_depth=0):\n",
    "    if current_depth >= max_depth or len(X) == 0:\n",
    "        return None\n",
    "    \n",
    "    split = get_split(X, Y)\n",
    "    if split:    \n",
    "        # Perform the split\n",
    "        left_indices = np.where(X[:, split[0]] > split[1])[0]\n",
    "        right_indices = np.where(X[:, split[0]] <= split[1])[0]\n",
    "        \n",
    "        left_tree = build_tree(X[left_indices], Y[left_indices], max_depth, current_depth + 1)\n",
    "        right_tree = build_tree(X[right_indices], Y[right_indices], max_depth, current_depth + 1)\n",
    "        \n",
    "        return {\n",
    "            'split': split,\n",
    "            'left': left_tree,\n",
    "            'right': right_tree,\n",
    "        }"
   ]
  },
  {
   "cell_type": "code",
   "execution_count": null,
   "metadata": {},
   "outputs": [],
   "source": [
    "splits = build_tree(X, Y, max_depth=3)"
   ]
  },
  {
   "cell_type": "code",
   "execution_count": null,
   "metadata": {},
   "outputs": [],
   "source": [
    "depth_c = {0: 'red', 1: 'blue', 2: 'green'}\n",
    "def plot_decision_boundary(tree, depth=0):\n",
    "    if tree is None:\n",
    "        return\n",
    "\n",
    "    feature, value = tree['split']\n",
    "    left_child = tree['left']\n",
    "    right_child = tree['right']\n",
    "\n",
    "    if feature == 0:\n",
    "        plt.axvline(x=value, color=depth_c.get(depth), linestyle='--')\n",
    "    elif feature == 1:\n",
    "        plt.axhline(y=value, color=depth_c.get(depth), linestyle='--')\n",
    "\n",
    "    plot_decision_boundary(left_child, depth + 1)\n",
    "    plot_decision_boundary(right_child, depth + 1)"
   ]
  },
  {
   "cell_type": "code",
   "execution_count": null,
   "metadata": {},
   "outputs": [],
   "source": [
    "plt.figure(figsize=(8, 6))\n",
    "plt.scatter(X[:, 0], X[:, 1], c=Y, cmap='viridis')\n",
    "plot_decision_boundary(splits)\n",
    "plt.colorbar(label='Target Variable (Y)')\n",
    "plt.title('Scatter plot colored by target variable (Y)')\n",
    "plt.xlabel('0')\n",
    "plt.ylabel('1')\n",
    "plt.show()\n",
    "print(depth_c)"
   ]
  },
  {
   "cell_type": "code",
   "execution_count": null,
   "metadata": {},
   "outputs": [],
   "source": [
    "splits"
   ]
  },
  {
   "cell_type": "code",
   "execution_count": null,
   "metadata": {},
   "outputs": [],
   "source": [
    "# right is <=\n",
    "# left is >\n",
    "\n",
    "def inference(x_new, X, Y, splits):\n",
    "    # keep cutting the data according to splits\n",
    "    # then find y's and average them\n",
    "    if not splits['right'] and not splits['left']:\n",
    "        return np.mean(Y)\n",
    "    \n",
    "    split_f, split_v = splits['split'][0], splits['split'][1]\n",
    "    if x_new[split_f] <= split_v:\n",
    "        mask = X[:, split_f] <= split_v\n",
    "        X, Y = X[mask], Y[mask]\n",
    "        return inference(x_new, X, Y, splits['right'])\n",
    "    else:\n",
    "        mask = X[:, split_f] > split_v\n",
    "        X, Y = X[mask], Y[mask]\n",
    "        return inference(x_new, X, Y, splits['left'])"
   ]
  },
  {
   "cell_type": "code",
   "execution_count": null,
   "metadata": {},
   "outputs": [],
   "source": [
    "mse_acc = []\n",
    "for x,y in zip(X, Y):\n",
    "    out = inference(x, X, Y, splits)\n",
    "    mse_acc.append((out-y)**2)"
   ]
  },
  {
   "cell_type": "code",
   "execution_count": null,
   "metadata": {},
   "outputs": [],
   "source": [
    "plt.figure(figsize=(8, 6))\n",
    "plt.scatter(X[:, 0], X[:, 1], c=mse_acc, cmap='viridis')\n",
    "plot_decision_boundary(splits)\n",
    "plt.colorbar(label='Target Variable (Y)')\n",
    "plt.title('Scatter plot colored by target variable (Y)')\n",
    "plt.xlabel('0')\n",
    "plt.ylabel('1')\n",
    "plt.show()\n",
    "print(depth_c)"
   ]
  }
 ],
 "metadata": {
  "kernelspec": {
   "display_name": "base",
   "language": "python",
   "name": "python3"
  },
  "language_info": {
   "codemirror_mode": {
    "name": "ipython",
    "version": 3
   },
   "file_extension": ".py",
   "mimetype": "text/x-python",
   "name": "python",
   "nbconvert_exporter": "python",
   "pygments_lexer": "ipython3",
   "version": "3.10.12"
  }
 },
 "nbformat": 4,
 "nbformat_minor": 2
}
