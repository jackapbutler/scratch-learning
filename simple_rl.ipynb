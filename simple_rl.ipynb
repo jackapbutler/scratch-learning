{
 "cells": [
  {
   "cell_type": "code",
   "execution_count": 1,
   "metadata": {},
   "outputs": [],
   "source": [
    "import numpy as np"
   ]
  },
  {
   "cell_type": "code",
   "execution_count": 2,
   "metadata": {},
   "outputs": [],
   "source": [
    "num_cells = 6  # Number of cells in the 1D world\n",
    "start = 3      # Starting position\n",
    "n_iters = 10000   # Number of iterations/episodes\n",
    "n_actions = 2  # Number of possible actions (move left or right)\n",
    "\n",
    "# Reward setup (1 for the first cell, 0 for the rest)\n",
    "reward = np.array([1] + [0] * (num_cells - 1))\n",
    "\n",
    "# Initialize Q-values\n",
    "Q = np.zeros((num_cells, n_actions))"
   ]
  },
  {
   "cell_type": "code",
   "execution_count": 3,
   "metadata": {},
   "outputs": [
    {
     "name": "stdout",
     "output_type": "stream",
     "text": [
      "\n",
      "Learned Q-values:\n",
      "[[0.         0.        ]\n",
      " [1.         0.9025    ]\n",
      " [0.95       0.857375  ]\n",
      " [0.9025     0.81450625]\n",
      " [0.857375   0.        ]\n",
      " [0.         0.        ]]\n"
     ]
    }
   ],
   "source": [
    "epsilon = 0.1   # Epsilon for epsilon-greedy policy\n",
    "discount = 0.95 # Discount factor for future rewards\n",
    "Qs = []\n",
    "\n",
    "# Q-learning algorithm\n",
    "for _ in range(n_iters):\n",
    "    curr_state = start\n",
    "    \n",
    "    # Perform episode\n",
    "    time = 0\n",
    "    max_time = 10\n",
    "    while True or time < max_time:\n",
    "        # Choose action using epsilon-greedy policy\n",
    "        if np.random.uniform() < epsilon:\n",
    "            action = np.random.randint(n_actions)  # epsilon-greedy\n",
    "        else:\n",
    "            action = np.argmax(Q[curr_state])      # for UCB, add C * sqrt( ln(t) / # times in s,a )\n",
    "        \n",
    "        # Move to next state based on action and get reward\n",
    "        next_state = curr_state - 1 if action == 0 else curr_state + 1\n",
    "        immediate_reward = reward[next_state]\n",
    "        \n",
    "        # Q-value update (temporal difference learning, with one step)\n",
    "        best_next_action = np.argmax(Q[next_state]) # for SARSA, we update based on v(s, A_{t+1}), weighted SARSA: sum(a*v(a, a)) \n",
    "        Q[curr_state, action] += immediate_reward + discount * Q[next_state, best_next_action] - Q[curr_state, action]\n",
    "        \n",
    "        # Move to next state\n",
    "        curr_state = next_state\n",
    "        \n",
    "        # Termination condition (reached boundaries of the world)\n",
    "        time += 1\n",
    "        if curr_state == 0 or curr_state == num_cells - 1:\n",
    "            break\n",
    "    \n",
    "    # MC methods wait to get more accurate estimates at end of episode\n",
    "    ## this above uses TD learning with step one, immediately\n",
    "\n",
    "    Qs.append(Q)\n",
    "\n",
    "# After all iterations, print the learned Q-values\n",
    "print(\"\\nLearned Q-values:\")\n",
    "print(Q)\n"
   ]
  },
  {
   "cell_type": "code",
   "execution_count": 4,
   "metadata": {},
   "outputs": [],
   "source": [
    "# 1D line q-learning / e-greedy / UCB, SARSA / TD learning"
   ]
  }
 ],
 "metadata": {
  "kernelspec": {
   "display_name": "swarm",
   "language": "python",
   "name": "python3"
  },
  "language_info": {
   "codemirror_mode": {
    "name": "ipython",
    "version": 3
   },
   "file_extension": ".py",
   "mimetype": "text/x-python",
   "name": "python",
   "nbconvert_exporter": "python",
   "pygments_lexer": "ipython3",
   "version": "3.10.12"
  }
 },
 "nbformat": 4,
 "nbformat_minor": 2
}
