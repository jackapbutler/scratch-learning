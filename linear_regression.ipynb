{
 "cells": [
  {
   "cell_type": "code",
   "execution_count": null,
   "metadata": {},
   "outputs": [],
   "source": [
    "from sklearn.datasets import make_regression\n",
    "from sklearn.linear_model import LinearRegression\n",
    "from sklearn.svm import LinearSVR\n",
    "import matplotlib.pyplot as plt\n",
    "import numpy as np\n",
    "from mpl_toolkits.mplot3d import Axes3D"
   ]
  },
  {
   "cell_type": "code",
   "execution_count": null,
   "metadata": {},
   "outputs": [],
   "source": [
    "X, Y = make_regression(n_features=2, noise=0.15) # linear data\n",
    "Y = (Y - Y.min()) / (Y.max() - Y.min())"
   ]
  },
  {
   "cell_type": "code",
   "execution_count": null,
   "metadata": {},
   "outputs": [],
   "source": [
    "plt.figure(figsize=(8, 6))\n",
    "plt.scatter(X[:, 0], X[:, 1], c=Y, cmap='viridis')\n",
    "plt.colorbar(label='Target Variable (Y)')\n",
    "plt.title('Scatter plot colored by target variable (Y)')\n",
    "plt.xlabel('Feature 1')\n",
    "plt.ylabel('Feature 2')\n",
    "plt.show()"
   ]
  },
  {
   "cell_type": "code",
   "execution_count": null,
   "metadata": {},
   "outputs": [],
   "source": [
    "X.shape, Y.shape"
   ]
  },
  {
   "cell_type": "code",
   "execution_count": null,
   "metadata": {},
   "outputs": [],
   "source": [
    "w = np.random.normal(size=(X.shape[-1]))\n",
    "b = np.random.normal()\n",
    "w, b"
   ]
  },
  {
   "cell_type": "code",
   "execution_count": null,
   "metadata": {},
   "outputs": [],
   "source": [
    "lr = 0.04\n",
    "nepochs = 1000\n",
    "\n",
    "for i in range(nepochs):\n",
    "    preds = (X @ w) + b\n",
    "    diffs = preds - Y\n",
    "    errors = diffs**2\n",
    "    \n",
    "    for feature_index in range(w.shape[0]):\n",
    "        meanerror_by_activation = diffs @ X[:, feature_index] / X.shape[0] \n",
    "        w[feature_index] -= lr * meanerror_by_activation\n",
    "    b -= lr * diffs.mean()\n",
    "    \n",
    "    if i % (nepochs // 10) == 0:\n",
    "        print(errors.mean(), w, b)\n",
    "    \n",
    "    if i in [0, nepochs-1]:\n",
    "        fig = plt.figure(figsize=(10, 8))\n",
    "        ax = fig.add_subplot(111, projection='3d')\n",
    "\n",
    "        ax.scatter(X[:, 0], X[:, 1], Y, c=Y, cmap='viridis')\n",
    "\n",
    "        x1_min, x1_max = np.min(X[:, 0]), np.max(X[:, 0])\n",
    "        x2_min, x2_max = np.min(X[:, 1]), np.max(X[:, 1])\n",
    "        x1_range = np.linspace(x1_min, x1_max, 10)\n",
    "        x2_range = np.linspace(x2_min, x2_max, 10)\n",
    "        x1_mesh, x2_mesh = np.meshgrid(x1_range, x2_range)\n",
    "        \n",
    "        hyperplane = w[0] * x1_mesh + w[1] * x2_mesh + b\n",
    "        ax.plot_surface(x1_mesh, x2_mesh, hyperplane, alpha=0.5)\n",
    "\n",
    "        # Set labels and title\n",
    "        ax.set_xlabel('Feature 1')\n",
    "        ax.set_ylabel('Feature 2')\n",
    "        ax.set_zlabel('Target Variable (Y)')\n",
    "        plt.title('3D Plot with Hyperplane')\n",
    "        plt.show()\n"
   ]
  },
  {
   "cell_type": "code",
   "execution_count": null,
   "metadata": {},
   "outputs": [],
   "source": [
    "svm_error = (LinearSVR().fit(X, Y).predict(X)-Y)**2\n",
    "linreg_error = (LinearRegression().fit(X,Y).predict(X)-Y)**2\n",
    "\n",
    "for err, name in zip([errors, svm_error, linreg_error], ['My LinReg', 'SKlearn LinSVM', 'Sklearn LinReg']):\n",
    "    print(name, err.mean())"
   ]
  }
 ],
 "metadata": {
  "kernelspec": {
   "display_name": "swarm",
   "language": "python",
   "name": "python3"
  },
  "language_info": {
   "codemirror_mode": {
    "name": "ipython",
    "version": 3
   },
   "file_extension": ".py",
   "mimetype": "text/x-python",
   "name": "python",
   "nbconvert_exporter": "python",
   "pygments_lexer": "ipython3",
   "version": "3.10.12"
  }
 },
 "nbformat": 4,
 "nbformat_minor": 2
}
