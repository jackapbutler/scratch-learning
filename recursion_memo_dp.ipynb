{
 "cells": [
  {
   "cell_type": "code",
   "execution_count": 1,
   "metadata": {},
   "outputs": [],
   "source": [
    "def fib_memoisation(n: int, cache=None) -> int:\n",
    "    # Memoisation\n",
    "    ## top down like recursion but store cache\n",
    "    ## this re-uses results where possible\n",
    "    if cache is None:\n",
    "        # safe to init from None\n",
    "        cache = {}\n",
    "    if n in cache:\n",
    "        return cache[n]\n",
    "    if n < 2:\n",
    "        cache[n] = n\n",
    "        return cache[n]\n",
    "    cache[n] = fib_memoisation(n-2, cache) + fib_memoisation(n-1, cache)\n",
    "    return cache[n]"
   ]
  },
  {
   "cell_type": "code",
   "execution_count": 2,
   "metadata": {},
   "outputs": [],
   "source": [
    "def fib_dp(n: int) -> int:\n",
    "    # Dynamic Programming\n",
    "    ## we go bottom-up, and don't recalculate as we go\n",
    "    ## build next piece of answer from previous components\n",
    "    if n == 0:\n",
    "        return 0\n",
    "    elif n == 1:\n",
    "        return 1\n",
    "\n",
    "    # this could just be a variable, don't need to store all\n",
    "    store = []\n",
    "    for x in range(n):\n",
    "        if x < 2:\n",
    "            store.append(x)\n",
    "        else:\n",
    "            store.append( store[x-1] + store[x-2] )\n",
    "\n",
    "    return store[n-1] + store[n-2]"
   ]
  },
  {
   "cell_type": "code",
   "execution_count": 3,
   "metadata": {},
   "outputs": [],
   "source": [
    "def fib_recursive(n: int) -> int:\n",
    "    # Recursion \n",
    "    ## we know a base case\n",
    "    ## can reduce all others to these cases\n",
    "    ## bad for time as we expand and recompute but good for readibility\n",
    "    if n < 2:\n",
    "        return n\n",
    "    return fib_recursive(n-1) + fib_recursive(n-2)"
   ]
  }
 ],
 "metadata": {
  "kernelspec": {
   "display_name": "swarm",
   "language": "python",
   "name": "python3"
  },
  "language_info": {
   "codemirror_mode": {
    "name": "ipython",
    "version": 3
   },
   "file_extension": ".py",
   "mimetype": "text/x-python",
   "name": "python",
   "nbconvert_exporter": "python",
   "pygments_lexer": "ipython3",
   "version": "3.10.12"
  }
 },
 "nbformat": 4,
 "nbformat_minor": 2
}
